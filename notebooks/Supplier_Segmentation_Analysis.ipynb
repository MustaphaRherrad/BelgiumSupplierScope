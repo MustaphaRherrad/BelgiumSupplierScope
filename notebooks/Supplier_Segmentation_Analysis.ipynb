{
 "cells": [
  {
   "cell_type": "code",
   "execution_count": 1,
   "id": "fb8f1399-f206-448f-a6fb-ab6430af136a",
   "metadata": {},
   "outputs": [],
   "source": [
    "import sys\n",
    "import os\n",
    "\n",
    "# Ajouter le chemin racine du projet au PYTHONPATH\n",
    "project_root = os.path.abspath(os.path.join(os.getcwd(), \"..\"))\n",
    "if project_root not in sys.path:\n",
    "    sys.path.insert(0, project_root)\n",
    "\n",
    "# Maintenant je peux  importer\n",
    "from src.data.make_dataset import load_clean_data"
   ]
  },
  {
   "cell_type": "code",
   "execution_count": 2,
   "id": "2eb26382-19c5-4778-ba78-84c727c3538a",
   "metadata": {},
   "outputs": [],
   "source": [
    "import sys\n",
    "import os\n",
    "from pathlib import Path\n",
    "import pandas as pd\n",
    "\n",
    "# Configurer le chemin\n",
    "project_root = Path().resolve().parent\n",
    "sys.path.append(str(project_root))\n",
    "\n",
    "# Importer les fonctions\n",
    "from src.data.make_dataset import load_raw_data, load_clean_data, save_clean_data\n",
    "from src.data.preprocessing import clean_data\n",
    "\n",
    "df_clean = pd.read_csv('C:/Code/Projets_perso/projets/BelgiumSupplierScope/data/processed/df_clean.csv')\n",
    "\n",
    "# Option 1: Si j'ai  déjà df_clean en mémoire\n",
    "save_clean_data(df_clean)  # Sauvegarder pour usage futur\n",
    "\n",
    "# Option 2: Si je veux  tout recréer depuis le début\n",
    "# df_raw = load_raw_data()\n",
    "# df_clean = clean_data(df_raw)\n",
    "# save_clean_data(df_clean)\n",
    "\n",
    "# Charger les données nettoyées\n",
    "df = load_clean_data()"
   ]
  },
  {
   "cell_type": "code",
   "execution_count": 10,
   "id": "b9341b91-998f-4d09-8161-d1ba32761d73",
   "metadata": {},
   "outputs": [
    {
     "name": "stdout",
     "output_type": "stream",
     "text": [
      "Graphique sauvegardé avec succès dans : C:\\Code\\Projets_perso\\projets\\BelgiumSupplierScope\\reports\\figures\\kraljic_matrix.png\n"
     ]
    }
   ],
   "source": [
    "# Recharger les modules\n",
    "from importlib import reload\n",
    "from src.features import supplier_segmentation\n",
    "reload(supplier_segmentation)\n",
    "\n",
    "# Régénérer les données et le graphique\n",
    "from src.features.supplier_segmentation import create_kraljic_matrix, plot_kraljic_matrix\n",
    "supplier_stats = create_kraljic_matrix(df)\n",
    "plot_kraljic_matrix(supplier_stats)"
   ]
  },
  {
   "cell_type": "markdown",
   "id": "27421218-8f08-4046-9232-57c2ba2c9965",
   "metadata": {},
   "source": [
    "pip install geopandas"
   ]
  },
  {
   "cell_type": "raw",
   "id": "587a28f5-72a0-4b98-b9eb-f3494d4d4d4d",
   "metadata": {},
   "source": [
    "pip install contextily"
   ]
  },
  {
   "cell_type": "code",
   "execution_count": 4,
   "id": "d7027480-5eb6-4f31-ae69-9304a1e02b21",
   "metadata": {},
   "outputs": [
    {
     "name": "stdout",
     "output_type": "stream",
     "text": [
      "Index(['EU_FLAG', 'EFTA_FLAG', 'CC_FLAG', 'LEVL_CODE', 'NUTS_BN_ID',\n",
      "       'COAS_FLAG', 'OTHR_FLAG', 'geometry'],\n",
      "      dtype='object')\n"
     ]
    }
   ],
   "source": [
    "import geopandas as gpd\n",
    "from pathlib import Path\n",
    "import os\n",
    "\n",
    "# Remplacez temporairement le chemin par un chemin absolu brut\n",
    "shapefile = r'C:\\Code\\Projets_perso\\projets\\BelgiumSupplierScope\\data\\external\\NUTS_BN_01M_2021_4326\\belgium_nuts.shp'\n",
    "\n",
    "belgium = gpd.read_file(str(shapefile))\n",
    "print(belgium.columns)"
   ]
  },
  {
   "cell_type": "code",
   "execution_count": 5,
   "id": "46c42431-146d-42ca-b23e-c63ca660bb7e",
   "metadata": {},
   "outputs": [
    {
     "name": "stdout",
     "output_type": "stream",
     "text": [
      "['DK042' 'BE' 'AT127' 'FR101' 'UKH12' 'BE100' 'AT22' 'FR711' 'CH011'\n",
      " 'AT130']\n",
      "['AT332' 'AT' 'BE100' 'BE234' 'BE221' 'BE32D' 'BE332' 'BE325' 'BE327'\n",
      " 'BE211']\n"
     ]
    }
   ],
   "source": [
    "print(df['bidder_nuts'].dropna().unique()[:10])\n",
    "print(df['buyer_nuts'].dropna().unique()[:10])"
   ]
  },
  {
   "cell_type": "code",
   "execution_count": 6,
   "id": "0caf3ce9-e920-48f9-8679-08cc6fc09947",
   "metadata": {},
   "outputs": [
    {
     "name": "stdout",
     "output_type": "stream",
     "text": [
      "[70. 71. 72. 73. 74. 75. 76. 77. 78. 79.]\n"
     ]
    }
   ],
   "source": [
    "print(belgium['NUTS_BN_ID'].unique()[:10])"
   ]
  },
  {
   "cell_type": "code",
   "execution_count": 8,
   "id": "4f74c172-52c2-4817-8651-1f1078b1f8a5",
   "metadata": {},
   "outputs": [
    {
     "data": {
      "text/html": [
       "<div>\n",
       "<style scoped>\n",
       "    .dataframe tbody tr th:only-of-type {\n",
       "        vertical-align: middle;\n",
       "    }\n",
       "\n",
       "    .dataframe tbody tr th {\n",
       "        vertical-align: top;\n",
       "    }\n",
       "\n",
       "    .dataframe thead th {\n",
       "        text-align: right;\n",
       "    }\n",
       "</style>\n",
       "<table border=\"1\" class=\"dataframe\">\n",
       "  <thead>\n",
       "    <tr style=\"text-align: right;\">\n",
       "      <th></th>\n",
       "      <th>EU_FLAG</th>\n",
       "      <th>EFTA_FLAG</th>\n",
       "      <th>CC_FLAG</th>\n",
       "      <th>LEVL_CODE</th>\n",
       "      <th>NUTS_BN_ID</th>\n",
       "      <th>COAS_FLAG</th>\n",
       "      <th>OTHR_FLAG</th>\n",
       "      <th>geometry</th>\n",
       "    </tr>\n",
       "  </thead>\n",
       "  <tbody>\n",
       "    <tr>\n",
       "      <th>0</th>\n",
       "      <td>T</td>\n",
       "      <td>F</td>\n",
       "      <td>F</td>\n",
       "      <td>0</td>\n",
       "      <td>70.0</td>\n",
       "      <td>F</td>\n",
       "      <td>T</td>\n",
       "      <td>LINESTRING (-51.65546 4.05599, -51.6763 4.0363...</td>\n",
       "    </tr>\n",
       "    <tr>\n",
       "      <th>1</th>\n",
       "      <td>T</td>\n",
       "      <td>F</td>\n",
       "      <td>F</td>\n",
       "      <td>0</td>\n",
       "      <td>71.0</td>\n",
       "      <td>T</td>\n",
       "      <td>F</td>\n",
       "      <td>LINESTRING (-61.61436 15.85533, -61.61812 15.8...</td>\n",
       "    </tr>\n",
       "    <tr>\n",
       "      <th>2</th>\n",
       "      <td>T</td>\n",
       "      <td>F</td>\n",
       "      <td>F</td>\n",
       "      <td>0</td>\n",
       "      <td>72.0</td>\n",
       "      <td>T</td>\n",
       "      <td>F</td>\n",
       "      <td>LINESTRING (-61.58993 15.87609, -61.59348 15.8...</td>\n",
       "    </tr>\n",
       "    <tr>\n",
       "      <th>3</th>\n",
       "      <td>T</td>\n",
       "      <td>F</td>\n",
       "      <td>F</td>\n",
       "      <td>0</td>\n",
       "      <td>73.0</td>\n",
       "      <td>T</td>\n",
       "      <td>F</td>\n",
       "      <td>LINESTRING (-61.56808 15.87879, -61.57162 15.8...</td>\n",
       "    </tr>\n",
       "    <tr>\n",
       "      <th>4</th>\n",
       "      <td>T</td>\n",
       "      <td>F</td>\n",
       "      <td>F</td>\n",
       "      <td>0</td>\n",
       "      <td>74.0</td>\n",
       "      <td>T</td>\n",
       "      <td>F</td>\n",
       "      <td>LINESTRING (-61.25944 15.87121, -61.27928 15.8...</td>\n",
       "    </tr>\n",
       "  </tbody>\n",
       "</table>\n",
       "</div>"
      ],
      "text/plain": [
       "  EU_FLAG EFTA_FLAG CC_FLAG  LEVL_CODE  NUTS_BN_ID COAS_FLAG OTHR_FLAG  \\\n",
       "0       T         F       F          0        70.0         F         T   \n",
       "1       T         F       F          0        71.0         T         F   \n",
       "2       T         F       F          0        72.0         T         F   \n",
       "3       T         F       F          0        73.0         T         F   \n",
       "4       T         F       F          0        74.0         T         F   \n",
       "\n",
       "                                            geometry  \n",
       "0  LINESTRING (-51.65546 4.05599, -51.6763 4.0363...  \n",
       "1  LINESTRING (-61.61436 15.85533, -61.61812 15.8...  \n",
       "2  LINESTRING (-61.58993 15.87609, -61.59348 15.8...  \n",
       "3  LINESTRING (-61.56808 15.87879, -61.57162 15.8...  \n",
       "4  LINESTRING (-61.25944 15.87121, -61.27928 15.8...  "
      ]
     },
     "execution_count": 8,
     "metadata": {},
     "output_type": "execute_result"
    }
   ],
   "source": [
    "belgium.head()"
   ]
  },
  {
   "cell_type": "code",
   "execution_count": 3,
   "id": "1277fe7c-1bce-4869-95b9-d4dd26211d5b",
   "metadata": {},
   "outputs": [
    {
     "name": "stdout",
     "output_type": "stream",
     "text": [
      "Avertissement : Pas de colonne de code pays, toutes les entités du shapefile seront utilisées.\n"
     ]
    },
    {
     "ename": "ValueError",
     "evalue": "Données insuffisantes pour le tracé après nettoyage",
     "output_type": "error",
     "traceback": [
      "\u001b[31m---------------------------------------------------------------------------\u001b[39m",
      "\u001b[31mValueError\u001b[39m                                Traceback (most recent call last)",
      "\u001b[36mCell\u001b[39m\u001b[36m \u001b[39m\u001b[32mIn[3]\u001b[39m\u001b[32m, line 6\u001b[39m\n\u001b[32m      3\u001b[39m \u001b[38;5;28;01mfrom\u001b[39;00m\u001b[38;5;250m \u001b[39m\u001b[34;01msrc\u001b[39;00m\u001b[34;01m.\u001b[39;00m\u001b[34;01mvisualization\u001b[39;00m\u001b[34;01m.\u001b[39;00m\u001b[34;01mgeo_visualization\u001b[39;00m\u001b[38;5;250m \u001b[39m\u001b[38;5;28;01mimport\u001b[39;00m plot_supplier_buyer_geo\n\u001b[32m      4\u001b[39m \u001b[38;5;28;01mimport\u001b[39;00m\u001b[38;5;250m \u001b[39m\u001b[34;01mpandas\u001b[39;00m\u001b[38;5;250m \u001b[39m\u001b[38;5;28;01mas\u001b[39;00m\u001b[38;5;250m \u001b[39m\u001b[34;01mpd\u001b[39;00m\n\u001b[32m----> \u001b[39m\u001b[32m6\u001b[39m \u001b[43mplot_supplier_buyer_geo\u001b[49m\u001b[43m(\u001b[49m\u001b[43mdf\u001b[49m\u001b[43m)\u001b[49m\n",
      "\u001b[36mFile \u001b[39m\u001b[32mc:\\code\\projets_perso\\projets\\BelgiumSupplierScope\\src\\visualization\\geo_visualization.py:80\u001b[39m, in \u001b[36mplot_supplier_buyer_geo\u001b[39m\u001b[34m(df, save_dir)\u001b[39m\n\u001b[32m     78\u001b[39m \u001b[38;5;66;03m# Vérification finale\u001b[39;00m\n\u001b[32m     79\u001b[39m \u001b[38;5;28;01mif\u001b[39;00m suppliers_geo.empty \u001b[38;5;129;01mor\u001b[39;00m buyers_geo.empty:\n\u001b[32m---> \u001b[39m\u001b[32m80\u001b[39m     \u001b[38;5;28;01mraise\u001b[39;00m \u001b[38;5;167;01mValueError\u001b[39;00m(\u001b[33m\"\u001b[39m\u001b[33mDonnées insuffisantes pour le tracé après nettoyage\u001b[39m\u001b[33m\"\u001b[39m)\n\u001b[32m     82\u001b[39m \u001b[38;5;66;03m# 6. Création du dossier de sortie\u001b[39;00m\n\u001b[32m     83\u001b[39m save_dir = project_root / save_dir\n",
      "\u001b[31mValueError\u001b[39m: Données insuffisantes pour le tracé après nettoyage"
     ]
    }
   ],
   "source": [
    "# 2. Analyse Géographique\n",
    "\n",
    "from src.visualization.geo_visualization import plot_supplier_buyer_geo\n",
    "import pandas as pd\n",
    "\n",
    "plot_supplier_buyer_geo(df)"
   ]
  },
  {
   "cell_type": "code",
   "execution_count": null,
   "id": "48d897fc-51a5-40ae-abeb-90440756a6b4",
   "metadata": {},
   "outputs": [],
   "source": [
    "# 3. Analyse par CPV\n",
    "from src.features.cpv_analysis import analyze_cpv_dominance\n",
    "analyze_cpv_dominance(df)"
   ]
  }
 ],
 "metadata": {
  "kernelspec": {
   "display_name": "Python [conda env:supplierscope]",
   "language": "python",
   "name": "conda-env-supplierscope-py"
  },
  "language_info": {
   "codemirror_mode": {
    "name": "ipython",
    "version": 3
   },
   "file_extension": ".py",
   "mimetype": "text/x-python",
   "name": "python",
   "nbconvert_exporter": "python",
   "pygments_lexer": "ipython3",
   "version": "3.11.11"
  }
 },
 "nbformat": 4,
 "nbformat_minor": 5
}
