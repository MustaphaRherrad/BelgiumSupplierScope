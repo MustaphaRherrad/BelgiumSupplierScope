{
 "cells": [
  {
   "cell_type": "code",
   "execution_count": 1,
   "id": "23418665-d613-4ed5-90c5-f7e5e4e458cc",
   "metadata": {},
   "outputs": [
    {
     "name": "stderr",
     "output_type": "stream",
     "text": [
      "C:\\Users\\musta\\AppData\\Local\\Temp\\ipykernel_2732\\384254728.py:4: DtypeWarning: Columns (14,25) have mixed types. Specify dtype option on import or set low_memory=False.\n",
      "  df_light = pd.read_csv('C:/Code/Projets_perso/projets/BelgiumSupplierScope/data/processed/BE_DIB_2023_clean.csv')\n"
     ]
    }
   ],
   "source": [
    "import pandas as pd\n",
    "\n",
    "# Lecture du fichier .csv.gz (compression gzip est normalement reconnue automatiquement par pandas)\n",
    "df_light = pd.read_csv('C:/Code/Projets_perso/projets/BelgiumSupplierScope/data/processed/BE_DIB_2023_clean.csv')\n",
    "\n",
    "# Conversion sécurisée en numérique\n",
    "df_light['tender_recordedbidscount'] = pd.to_numeric(df_light['tender_recordedbidscount'], errors='coerce')\n",
    "df_light['tender_finalprice'] = pd.to_numeric(df_light['tender_finalprice'], errors='coerce')\n"
   ]
  },
  {
   "cell_type": "code",
   "execution_count": 2,
   "id": "cdcbaee1-8e20-4a5e-abd2-d5e67d625aaf",
   "metadata": {},
   "outputs": [],
   "source": [
    "import pandas as pd\n",
    "import numpy as np\n",
    "\n",
    "# Supprimer les colonnes entièrement vides\n",
    "df_clean = df_light.drop(columns=['corr_subm', 'corr_tax_haven'])\n",
    "\n",
    "# Conversion des colonnes booléennes (t/f) en 1/0\n",
    "bool_cols = ['bid_iswinning', 'bid_issubcontracted', 'bid_isconsortium', 'tender_isawarded']\n",
    "for col in bool_cols:\n",
    "    df_clean[col] = np.where(df_clean[col] == 't', 1, 0)\n",
    "\n",
    "# Conversion finale des types\n",
    "df_clean = df_clean.convert_dtypes()  # Inférence automatique des meilleurs types"
   ]
  },
  {
   "cell_type": "code",
   "execution_count": 3,
   "id": "fae06329-4b7c-497f-b17d-895524590d93",
   "metadata": {},
   "outputs": [
    {
     "name": "stdout",
     "output_type": "stream",
     "text": [
      "                                         bidder_name bidder_nuts  \\\n",
      "0                                         AT Osborne        <NA>   \n",
      "1  DCE — Danish Centre for Environment and Energy...       DK042   \n",
      "2  Natural Environment Research Council, Centre f...        <NA>   \n",
      "3                                 The N2K Group EEIG          BE   \n",
      "4  United Nations University/Centraal Bureau voor...        <NA>   \n",
      "\n",
      "                bidder_city bidder_country  \\\n",
      "0                      <NA>             BE   \n",
      "1                    Roende             DK   \n",
      "2  Wallingford, Oxfordshire             UK   \n",
      "3                  Brussels             BE   \n",
      "4                     Tokyo             JP   \n",
      "\n",
      "                                          buyer_name buyer_nuts buyer_city  \\\n",
      "0  Posch & Partner GmbH on behalf of the Municipa...      AT332  Innsbruck   \n",
      "1        Krankenanstalten Immobiliengesellschaft mbH         AT       Graz   \n",
      "2        Krankenanstalten Immobiliengesellschaft mbH         AT       Graz   \n",
      "3        Krankenanstalten Immobiliengesellschaft mbH         AT       Graz   \n",
      "4        Krankenanstalten Immobiliengesellschaft mbH         AT       Graz   \n",
      "\n",
      "  buyer_country  \n",
      "0            AT  \n",
      "1            AT  \n",
      "2            AT  \n",
      "3            AT  \n",
      "4            AT  \n"
     ]
    }
   ],
   "source": [
    "# Colonnes géographiques potentielles\n",
    "geo_columns = [\n",
    "    'bidder_name','bidder_nuts', 'bidder_city', 'bidder_country',\n",
    "    'buyer_name','buyer_nuts', 'buyer_city', 'buyer_country'\n",
    "]\n",
    "\n",
    "# Affichage des 5 premières lignes pour vérification\n",
    "print(df_clean[geo_columns].head())"
   ]
  },
  {
   "cell_type": "markdown",
   "id": "6c899b3f-9ddc-4824-a4ee-7ef3479ac5ef",
   "metadata": {},
   "source": [
    "#### Evaluer le taux de données géo manquantes"
   ]
  },
  {
   "cell_type": "code",
   "execution_count": 4,
   "id": "d1d3e387-9af6-48a0-935a-7d60c9f8a49f",
   "metadata": {},
   "outputs": [
    {
     "name": "stdout",
     "output_type": "stream",
     "text": [
      "bidder_nuts       61.850648\n",
      "bidder_city       59.806081\n",
      "bidder_country    59.586321\n",
      "dtype: float64\n"
     ]
    }
   ],
   "source": [
    "# Pourcentage de données manquantes par colonne\n",
    "missing_percent = df_clean[['bidder_nuts', 'bidder_city', 'bidder_country']].isnull().mean() * 100\n",
    "print(missing_percent)"
   ]
  },
  {
   "cell_type": "code",
   "execution_count": 5,
   "id": "4e07fb3e-81fa-4d27-a77c-3e0bf954de9e",
   "metadata": {},
   "outputs": [
    {
     "name": "stdout",
     "output_type": "stream",
     "text": [
      "Nombre de lignes sans info géographique du tout: 111827\n"
     ]
    }
   ],
   "source": [
    "missing_rows = df_clean.loc[df_clean[['bidder_nuts', 'bidder_city', 'bidder_country']].isnull().all(axis=1)]\n",
    "print(f\"Nombre de lignes sans info géographique du tout: {len(missing_rows)}\")"
   ]
  },
  {
   "cell_type": "markdown",
   "id": "266c2161-f697-4bfa-9d07-42e9d4f3492e",
   "metadata": {},
   "source": [
    "Ces pourcentages indiquent qu’environ 61,85 % des valeurs dans la colonne bidder_nuts sont manquantes, 59,81 % dans bidder_city et 59,59 % dans bidder_country.\n",
    "\n",
    "Cela signifie que plus de la moitié des données géographiques des fournisseurs sont absentes dans ces colonnes. Cette absence importante de données limite fortement la possibilité de réaliser une analyse géographique fiable ou une localisation précise des fournisseurs à partir de ces informations.\n",
    "\n",
    "Il sera donc nécessaire de traiter ce problème : soit en excluant les lignes incomplètes, soit en tentant de compléter les données manquantes, ou en cherchant d’autres sources pour enrichir ces informations."
   ]
  },
  {
   "cell_type": "code",
   "execution_count": 6,
   "id": "4ffc274f-8e64-4496-a313-6fc7229b1990",
   "metadata": {},
   "outputs": [
    {
     "name": "stdout",
     "output_type": "stream",
     "text": [
      "                                                name   latitude  longitude\n",
      "0  Posch & Partner GmbH on behalf of the Municipa...        NaN        NaN\n",
      "1        Krankenanstalten Immobiliengesellschaft mbH        NaN        NaN\n",
      "2  Vlaams Centrum voor Agro- en Visserijmarketing...        NaN        NaN\n",
      "3  Waterwegen en Zeekanaal NV, afdeling Bovenschelde        NaN        NaN\n",
      "4                       Banque nationale de Belgique  50.848852   4.359759\n",
      "5            AUTONOOM GEMEENTEBEDRIJF HEUSDEN-ZOLDER        NaN        NaN\n",
      "6                              Commune de Morlanwelz        NaN        NaN\n",
      "7  Agentschap voor Geografische Informatie Vlaand...        NaN        NaN\n",
      "8                                   Vlaams Parlement  50.847324   4.367493\n",
      "9                                        Infrabel SA  50.611238   3.405090\n"
     ]
    }
   ],
   "source": [
    "from geopy.geocoders import Nominatim\n",
    "import pandas as pd\n",
    "import time\n",
    "\n",
    "geolocator = Nominatim(user_agent=\"my_geocoder\")\n",
    "\n",
    "def geocode_name(name):\n",
    "    try:\n",
    "        location = geolocator.geocode(name)\n",
    "        if location:\n",
    "            return location.latitude, location.longitude\n",
    "    except:\n",
    "        return None, None\n",
    "    return None, None\n",
    "\n",
    "# Exemple sur les 10 premiers acheteurs\n",
    "sample_buyers = df_clean['buyer_name'].dropna().unique()[:10]\n",
    "results = []\n",
    "\n",
    "for name in sample_buyers:\n",
    "    lat, lon = geocode_name(name)\n",
    "    results.append({'name': name, 'latitude': lat, 'longitude': lon})\n",
    "    time.sleep(1)  # Respecter les limites de l'API\n",
    "\n",
    "df_geo = pd.DataFrame(results)\n",
    "print(df_geo)"
   ]
  },
  {
   "cell_type": "markdown",
   "id": "92d222de-d39c-459c-ad34-f5a147890496",
   "metadata": {},
   "source": [
    "---\n",
    "\n",
    "## Peut-on exploiter les noms pour trouver des coordonnées géographiques ?\n",
    "\n",
    "### 1. **Oui, mais avec des limites**\n",
    "\n",
    "Il est possible d’utiliser les noms d’acheteurs (`buyer_name`) et de fournisseurs (`bidder_name`) pour tenter de retrouver des coordonnées géographiques, **mais ce n’est ni automatique ni garanti**.  \n",
    "Voici comment cela fonctionne et ce à quoi il faut s’attendre :\n",
    "\n",
    "---\n",
    "\n",
    "### 2. **Comment faire concrètement ?**\n",
    "\n",
    "#### a) **Recherche manuelle ou semi-automatisée**\n",
    "- Pour chaque nom, on peut utiliser des API ou des moteurs de recherche (Google, Bing, OpenCorporates, LinkedIn, etc.) pour tenter de retrouver l’adresse ou la localisation de l’entité.\n",
    "- Si le nom est très spécifique et unique (ex : « Banque nationale de Belgique », « Vlaams Parlement »), la localisation est généralement facile à trouver.\n",
    "- Pour des noms génériques ou ambigus, il peut y avoir plusieurs résultats possibles.\n",
    "\n",
    "#### b) **Géocodage par API**\n",
    "- Une fois l’adresse trouvée (ou le nom de l’organisation), on peut utiliser des services de géocodage (Google Maps API, Nominatim d’OpenStreetMap, etc.) pour obtenir les coordonnées (latitude/longitude).\n",
    "- Il existe des bibliothèques Python comme `geopy` qui facilitent ce processus.\n",
    "\n",
    "#### c) **Automatisation avec précautions**\n",
    "- On peut automatiser la recherche pour les noms les plus fréquents ou les plus importants, mais il y aura des erreurs et des ambiguïtés à corriger manuellement.\n",
    "- Les résultats dépendent de la qualité et de la spécificité des noms.\n",
    "\n",
    "---\n",
    "\n",
    "### 3. **Limites et difficultés**\n",
    "\n",
    "- **Ambiguïté** : Plusieurs entités peuvent avoir le même nom ou des noms très proches.\n",
    "- **Langues et variantes** : Les noms peuvent être écrits différemment selon la langue ou la translittération.\n",
    "- **Données incomplètes** : Certains noms ne permettent pas de retrouver facilement une localisation (ex : consortiums, groupements, etc.).\n",
    "- **Volume** : Avec plus de 12 000 acheteurs et 34 000 fournisseurs, le processus peut être long et nécessiter un nettoyage préalable.\n",
    "\n",
    "---\n",
    "\n",
    "### 4. **Exemple de démarche automatisée (Python)**\n",
    "\n",
    "Voici un exemple de code pour géocoder des noms d’organisations :\n",
    "\n",
    "```python\n",
    "from geopy.geocoders import Nominatim\n",
    "import pandas as pd\n",
    "import time\n",
    "\n",
    "geolocator = Nominatim(user_agent=\"my_geocoder\")\n",
    "\n",
    "def geocode_name(name):\n",
    "    try:\n",
    "        location = geolocator.geocode(name)\n",
    "        if location:\n",
    "            return location.latitude, location.longitude\n",
    "    except:\n",
    "        return None, None\n",
    "    return None, None\n",
    "\n",
    "# Exemple sur les 10 premiers acheteurs\n",
    "sample_buyers = df_clean['buyer_name'].dropna().unique()[:10]\n",
    "results = []\n",
    "\n",
    "for name in sample_buyers:\n",
    "    lat, lon = geocode_name(name)\n",
    "    results.append({'name': name, 'latitude': lat, 'longitude': lon})\n",
    "    time.sleep(1)  # Respecter les limites de l'API\n",
    "\n",
    "df_geo = pd.DataFrame(results)\n",
    "print(df_geo)\n",
    "```\n",
    "\n",
    "---\n",
    "\n",
    "### 5. **Conseils pratiques**\n",
    "\n",
    "- **Nettoyez les noms** avant de géocoder (enlever les mentions inutiles, normaliser la casse, corriger les fautes).\n",
    "- **Géocodez d’abord les noms les plus fréquents** (pour maximiser la couverture).\n",
    "- **Vérifiez manuellement les cas ambigus ou les échecs de géocodage**.\n",
    "- **Constituez une table de correspondance** (nom → coordonnées) que vous pourrez réutiliser.\n",
    "\n",
    "---\n",
    "\n",
    "### 6. **Conclusion**\n",
    "\n",
    "**Oui, il est possible d’exploiter les noms pour retrouver des coordonnées géographiques.**  \n",
    "Cela demande cependant :\n",
    "- Du nettoyage de données,\n",
    "- Un géocodage automatisé (avec vérification humaine),\n",
    "- De la patience pour traiter les cas ambigus.\n",
    "\n",
    "C’est une bonne solution de secours quand les données structurées (codes NUTS, villes, pays) sont trop incomplètes, surtout si vous ciblez les principaux acteurs ou les analyses à grande échelle.\n",
    "\n",
    "\n",
    "---\n"
   ]
  },
  {
   "cell_type": "code",
   "execution_count": null,
   "id": "6356f9c0-5331-4949-b081-9c0a552d1b15",
   "metadata": {},
   "outputs": [],
   "source": []
  },
  {
   "cell_type": "code",
   "execution_count": null,
   "id": "c8e381d9-082a-46e5-b8ad-4fef904b5dd5",
   "metadata": {},
   "outputs": [],
   "source": []
  },
  {
   "cell_type": "code",
   "execution_count": null,
   "id": "efc07d2f-e6ed-47f1-8749-cb1340818ed5",
   "metadata": {},
   "outputs": [],
   "source": []
  }
 ],
 "metadata": {
  "kernelspec": {
   "display_name": "Python [conda env:supplierscope]",
   "language": "python",
   "name": "conda-env-supplierscope-py"
  },
  "language_info": {
   "codemirror_mode": {
    "name": "ipython",
    "version": 3
   },
   "file_extension": ".py",
   "mimetype": "text/x-python",
   "name": "python",
   "nbconvert_exporter": "python",
   "pygments_lexer": "ipython3",
   "version": "3.11.11"
  }
 },
 "nbformat": 4,
 "nbformat_minor": 5
}
